{
 "cells": [
  {
   "cell_type": "code",
   "execution_count": 7,
   "metadata": {},
   "outputs": [],
   "source": [
    "from docx import Document\n",
    "from datetime import datetime\n",
    "from docx.shared import Pt\n",
    "import pandas as pd\n",
    "import warnings\n",
    "\n",
    "warnings.filterwarnings(\"ignore\")"
   ]
  },
  {
   "cell_type": "code",
   "execution_count": 9,
   "metadata": {},
   "outputs": [],
   "source": [
    "def parte_entera_decimal(numero):\n",
    "    numero_str = str(numero)\n",
    "    if \".\" not in numero_str:\n",
    "        parte_entera = numero_str\n",
    "        parte_decimal = \"00\"\n",
    "    else:\n",
    "        parte_entera, parte_decimal = numero_str.split(\".\")\n",
    "    \n",
    "    if len(parte_decimal) > 2:\n",
    "        parte_decimal = parte_decimal[:2]\n",
    "    elif len(parte_decimal) < 2:\n",
    "        parte_decimal = parte_decimal.ljust(2, \"0\")\n",
    "    \n",
    "    return parte_entera, parte_decimal\n",
    "\n",
    "def numero_entero_a_texto(num):\n",
    "    if num == 0:\n",
    "        return \"cero\"\n",
    "    texto = \"\"\n",
    "    if num >= 1000:\n",
    "        texto += miles[int(str(num)[0])]\n",
    "        num %= 1000\n",
    "    if num >= 100:\n",
    "        texto += \" \" + centenas[int(str(num)[0])]\n",
    "        num %= 100\n",
    "    if num >= 10:\n",
    "        if num < 30 and num > 20:\n",
    "            texto += \" \" + veintiuno_a_veintinueve[num-20]\n",
    "            return texto\n",
    "        if num < 20 and num >10:\n",
    "            texto += \" \" + diez_a_diecinueve[num-10]\n",
    "            return texto\n",
    "        texto += \" \" + decenas[int(str(num)[0])]\n",
    "        num %= 10\n",
    "    if num > 0:\n",
    "        texto += \" y \" + unidades[num]\n",
    "    return texto.strip()\n",
    "\n",
    "unidades = [\"\", \"uno\", \"dos\", \"tres\", \"cuatro\", \"cinco\", \"seis\", \"siete\", \"ocho\", \"nueve\"]\n",
    "diez_a_diecinueve = [\"diez\", \"once\", \"doce\", \"trece\", \"catorce\", \"quince\", \"dieciséis\", \"diecisiete\", \"dieciocho\", \"diecinueve\"]\n",
    "veintiuno_a_veintinueve = [\"\", \"veintiuno\", \"veintidos\", \"veintitres\", \"veinticuatro\", \"veinticinco\", \"veintiseis\", \"veintisiete\", \"veintiocho\", \"veintinueve\"]\n",
    "decenas = [\"\", \"\", \"veinte\", \"treinta\", \"cuarenta\", \"cincuenta\", \"sesenta\", \"setenta\", \"ochenta\", \"noventa\"]\n",
    "centenas = [\"\", \"ciento\", \"doscientos\", \"trescientos\", \"cuatrocientos\", \"quinientos\", \"seiscientos\", \"setecientos\", \"ochocientos\", \"novecientos\"]\n",
    "miles = [\"\", \"mil\", \"dos mil\", \"tres mil\", \"cuatro mil\", \"cinco mil\", \"seis mil\", \"siete mil\", \"ocho mil\", \"nueve mil\"]\n",
    "\n",
    "correos_analistas = {\n",
    "    \"Walter Lopez\" : \"wlopez@claro.com.pe\",\n",
    "    \"Yolanda Oliva\" : \"yolanda.oliva@claro.com.pe\",\n",
    "    \"Juan Carlos Huatay\" : \"juan.huatay@claro.com.pe\",\n",
    "    \"Raquel Cayetano\" :\"rcayetano@claro.com.pe\",\n",
    "    \"Jose Luis Valverde\" : \"jvalverde@claro.com.pe\",\n",
    "    \"Diego Rodriguez\": \"diego.rodriguez@claro.com.pe\"}\n",
    "\n",
    "dia = datetime.today().strftime(\"%d\")\n",
    "mes = datetime.today().strftime(\"%m\")\n",
    "año = datetime.today().strftime(\"%Y\")\n",
    "meses = {\n",
    "    \"01\": \"enero\",\n",
    "    \"02\": \"febrero\",\n",
    "    \"03\": \"marzo\",\n",
    "    \"04\": \"abril\",\n",
    "    \"05\": \"mayo\",\n",
    "    \"06\": \"junio\",\n",
    "    \"07\": \"julio\",\n",
    "    \"08\": \"agosto\",\n",
    "    \"09\": \"septiembre\",\n",
    "    \"10\": \"octubre\",\n",
    "    \"11\": \"noviembre\",\n",
    "    \"12\": \"diciembre\"\n",
    "}\n",
    "nombre_mes = meses.get(mes)\n",
    "\n",
    "fecha_hoy = f\"{dia} de {nombre_mes} de {año}\""
   ]
  },
  {
   "cell_type": "code",
   "execution_count": 10,
   "metadata": {},
   "outputs": [],
   "source": [
    "base = \"BASE.xlsx\"\n",
    "dac_cdr = \"./FUENTES/BASE DAC Y CDR ac.xlsx\" #\"Z:/Base Datos Contratos/base actualizada DAC Y CDR/\"\n",
    "dac_x_analista = \"./FUENTES/Nuevo_DACxANALISTA.xlsx\" #\"Z:/JEFATURA CCD/\"\n",
    "modelo_1 = \"MODELO_1.docx\"\n",
    "modelo_2 = \"MODELO_2.docx\""
   ]
  },
  {
   "cell_type": "code",
   "execution_count": null,
   "metadata": {},
   "outputs": [],
   "source": [
    "# TEST #"
   ]
  },
  {
   "cell_type": "code",
   "execution_count": 4,
   "metadata": {},
   "outputs": [],
   "source": [
    "df_base = pd.read_excel(base, sheet_name=\"BASE\")\n",
    "df_dac_cdr = pd.read_excel(dac_cdr, sheet_name=\" CONTRATOS DAC-DACES\")\n",
    "df_dac_x_analista = pd.read_excel(dac_x_analista, sheet_name=\"Base_NUEVA\")"
   ]
  },
  {
   "cell_type": "code",
   "execution_count": 6,
   "metadata": {},
   "outputs": [
    {
     "name": "stdout",
     "output_type": "stream",
     "text": [
      "Cruce Data:  (2601, 90) \n",
      "\n"
     ]
    }
   ],
   "source": [
    "df_cruce = pd.merge(df_dac_cdr, df_dac_x_analista, left_on=\"Deudor\", right_on=\"DEUDOR\", how=\"left\")\n",
    "df_cruce.drop(columns=[\"DEUDOR\"], inplace=True)\n",
    "df_cruce = df_cruce[df_cruce[\"ANALISTA_ACT\"].notna()]\n",
    "print(\"Cruce Data: \",df_cruce.shape,\"\\n\")"
   ]
  },
  {
   "cell_type": "code",
   "execution_count": null,
   "metadata": {},
   "outputs": [],
   "source": [
    "########## BASE ##########"
   ]
  },
  {
   "cell_type": "code",
   "execution_count": 11,
   "metadata": {},
   "outputs": [
    {
     "data": {
      "text/plain": [
       "(13, 8)"
      ]
     },
     "execution_count": 11,
     "metadata": {},
     "output_type": "execute_result"
    }
   ],
   "source": [
    "columnas_deseadas_base = [\n",
    "    \"Cuenta\", \"Nº documento\", \"Referencia\", \"Fecha de documento\", \"Clase de documento\", \n",
    "    \"Demora tras vencimiento neto\", \"Moneda del documento\", \"Importe en moneda local\"]\n",
    "nuevas_columnas_base = [\"Fecha de doc.\", \"CL\", \"Demora\", \"Moneda\", \"Importe\"]\n",
    "df_base = pd.read_excel(base, sheet_name=\"BASE\")\n",
    "df_base = df_base[columnas_deseadas_base]\n",
    "df_base = df_base[df_base[\"Cuenta\"].notna()]\n",
    "\n",
    "nombres_columnas = dict(zip(columnas_deseadas_base[3:], nuevas_columnas_base))\n",
    "df_base = df_base.rename(columns=nombres_columnas)\n",
    "\n",
    "df_base[\"Cuenta\"] = df_base[\"Cuenta\"].astype(\"Int64\").astype(\"str\")\n",
    "df_base[\"Nº documento\"] = df_base[\"Nº documento\"].astype(\"Int64\").astype(\"str\")\n",
    "df_base[\"Demora\"] = df_base[\"Demora\"].astype(\"Int64\")\n",
    "df_base.sort_values(by=[\"Cuenta\",\"Demora\"], ascending=[True, False], inplace=True)\n",
    "df_base.shape"
   ]
  },
  {
   "cell_type": "code",
   "execution_count": 12,
   "metadata": {},
   "outputs": [
    {
     "data": {
      "text/plain": [
       "['4072772', '4073754', '4074733']"
      ]
     },
     "execution_count": 12,
     "metadata": {},
     "output_type": "execute_result"
    }
   ],
   "source": [
    "cuentas = df_base[\"Cuenta\"].drop_duplicates().to_list()\n",
    "cuentas"
   ]
  },
  {
   "cell_type": "code",
   "execution_count": null,
   "metadata": {},
   "outputs": [],
   "source": [
    "########## DAC y CDR ##########"
   ]
  },
  {
   "cell_type": "code",
   "execution_count": 13,
   "metadata": {},
   "outputs": [
    {
     "data": {
      "text/plain": [
       "(2603, 6)"
      ]
     },
     "execution_count": 13,
     "metadata": {},
     "output_type": "execute_result"
    }
   ],
   "source": [
    "columnas_deseadas_dac_cdr = [\"Deudor\", \"NOMBRE DAC\", \"DIRECCIÓN LEGAL\", \"DISTRITO\", \"PROVINCIA\", \"DPTO.\"]\n",
    "df_dac_cdr = pd.read_excel(dac_cdr, sheet_name=\" CONTRATOS DAC-DACES\")\n",
    "df_dac_cdr = df_dac_cdr[columnas_deseadas_dac_cdr]\n",
    "df_dac_cdr = df_dac_cdr[df_dac_cdr[\"Deudor\"].notna()]\n",
    "df_dac_cdr[\"Deudor\"] = df_dac_cdr[\"Deudor\"].astype(\"Int64\").astype(\"str\")\n",
    "df_dac_cdr.shape"
   ]
  },
  {
   "cell_type": "code",
   "execution_count": null,
   "metadata": {},
   "outputs": [],
   "source": [
    "########## DAC x ANALISTA ##########"
   ]
  },
  {
   "cell_type": "code",
   "execution_count": 14,
   "metadata": {},
   "outputs": [
    {
     "data": {
      "text/plain": [
       "(1519, 2)"
      ]
     },
     "execution_count": 14,
     "metadata": {},
     "output_type": "execute_result"
    }
   ],
   "source": [
    "columnas_deseadas_dacxanalista = [\"DEUDOR\", \"ANALISTA_ACT\"]\n",
    "analistas_no_deseados = [\"REGION NORTE\", \"REGION SUR\", \"SIN INFORMACION\"]\n",
    "df_dac_x_analista = pd.read_excel(dac_x_analista, sheet_name=\"Base_NUEVA\")\n",
    "df_dac_x_analista = df_dac_x_analista[columnas_deseadas_dacxanalista]\n",
    "df_dac_x_analista = df_dac_x_analista[df_dac_x_analista[\"DEUDOR\"].notna()]\n",
    "df_dac_x_analista = df_dac_x_analista.loc[~df_dac_x_analista[\"ANALISTA_ACT\"].isin(analistas_no_deseados)]\n",
    "df_dac_x_analista[\"DEUDOR\"] = df_dac_x_analista[\"DEUDOR\"].astype(\"Int64\").astype(\"str\")\n",
    "df_dac_x_analista.shape"
   ]
  },
  {
   "cell_type": "code",
   "execution_count": null,
   "metadata": {},
   "outputs": [],
   "source": [
    "########## CRUCE DAC y CDR / DAC x ANALISTA ##########"
   ]
  },
  {
   "cell_type": "code",
   "execution_count": 15,
   "metadata": {},
   "outputs": [
    {
     "data": {
      "text/plain": [
       "(1338, 7)"
      ]
     },
     "execution_count": 15,
     "metadata": {},
     "output_type": "execute_result"
    }
   ],
   "source": [
    "df_cruce = pd.merge(df_dac_cdr, df_dac_x_analista, left_on=\"Deudor\", right_on=\"DEUDOR\", how=\"left\")\n",
    "df_cruce.drop(columns=[\"DEUDOR\"], inplace=True)\n",
    "df_cruce = df_cruce[df_cruce[\"ANALISTA_ACT\"].notna()]\n",
    "df_cruce.shape"
   ]
  },
  {
   "cell_type": "code",
   "execution_count": 16,
   "metadata": {},
   "outputs": [
    {
     "data": {
      "text/plain": [
       "['WALTER LOPEZ',\n",
       " 'YOLANDA OLIVA',\n",
       " 'JUAN CARLOS HUATAY',\n",
       " 'RAQUEL CAYETANO',\n",
       " 'JOSE LUIS VALVERDE',\n",
       " 'DIEGO RODRIGUEZ']"
      ]
     },
     "execution_count": 16,
     "metadata": {},
     "output_type": "execute_result"
    }
   ],
   "source": [
    "analistas =df_cruce[\"ANALISTA_ACT\"].drop_duplicates().to_list()\n",
    "analistas"
   ]
  },
  {
   "cell_type": "code",
   "execution_count": 17,
   "metadata": {},
   "outputs": [
    {
     "name": "stdout",
     "output_type": "stream",
     "text": [
      "Deudores encontrados:  ['4072772', '4073754', '4074733']\n",
      "Deudores no encontrados:  ['1234567']\n"
     ]
    }
   ],
   "source": [
    "cuentas.append(\"1234567\") # Dueudor falso agregado para verificar.\n",
    "cuentas_no_encontradas = []\n",
    "cuentas_copia = cuentas.copy()\n",
    "\n",
    "for cuenta in cuentas_copia:\n",
    "    if cuenta not in df_cruce[\"Deudor\"].to_list():\n",
    "        cuentas.remove(cuenta)\n",
    "        cuentas_no_encontradas.append(cuenta)\n",
    "\n",
    "if len(cuentas_no_encontradas) == 0:\n",
    "    print(\"Deudores encontrados: \",cuentas)\n",
    "else:\n",
    "    print(\"Deudores encontrados: \",cuentas)\n",
    "    print(\"Deudores no encontrados: \",cuentas_no_encontradas)"
   ]
  },
  {
   "cell_type": "code",
   "execution_count": null,
   "metadata": {},
   "outputs": [],
   "source": [
    "########## CRUCE con BASE ##########"
   ]
  },
  {
   "cell_type": "code",
   "execution_count": null,
   "metadata": {},
   "outputs": [],
   "source": [
    "for cuenta in cuentas:\n",
    "    df_cuenta = df_base[df_base[\"Cuenta\"] == cuenta]\n",
    "    if (df_cuenta[\"Demora\"] >= 0).all():\n",
    "        razon_social = df_cruce[df_cruce[\"Deudor\"]==cuenta][\"NOMBRE DAC\"].iloc[0]\n",
    "        \n",
    "        direccion_legal = df_cruce[df_cruce[\"Deudor\"]==cuenta][\"DIRECCIÓN LEGAL\"].iloc[0]\n",
    "        \n",
    "        distrito = df_cruce[df_cruce[\"Deudor\"]==cuenta][\"DISTRITO\"].iloc[0]\n",
    "        \n",
    "        provincia = df_cruce[df_cruce[\"Deudor\"]==cuenta][\"PROVINCIA\"].iloc[0]\n",
    "        \n",
    "        departamento = df_cruce[df_cruce[\"Deudor\"]==cuenta][\"DPTO.\"].iloc[0]\n",
    "        \n",
    "        dias_demora = df_cuenta[\"Demora\"].iloc[0]\n",
    "        \n",
    "        deuda_vencida = round(df_cuenta[\"Importe\"].sum(),2)\n",
    "        parte_entera_deuda_vencida, parte_decimal_deuda_vencida = parte_entera_decimal(deuda_vencida)\n",
    "        deuda_vencida_soles = f\"S/ {parte_entera_deuda_vencida}.{parte_decimal_deuda_vencida}\"\n",
    "        parte_entera_deuda_vencida_a_texto = numero_entero_a_texto(int(parte_entera_deuda_vencida))\n",
    "        deuda_vencida_texto = f\"({parte_entera_deuda_vencida_a_texto} con {parte_decimal_deuda_vencida}/100 soles)\"\n",
    "        \n",
    "        analista_mayuscula = df_cruce[df_cruce[\"Deudor\"]==cuenta][\"ANALISTA_ACT\"].iloc[0]\n",
    "        analista = \" \".join([palabra.capitalize() for palabra in analista_mayuscula.lower().split(\" \")])\n",
    "        correo_analista = correos_analistas.get(analista)\n",
    "        \n",
    "        dias_demora_2 = dias_demora\n",
    "        razon_social_2 = razon_social\n",
    "        \n",
    "        df_cuenta.to_excel(\"./FINAL/\"+razon_social.upper()+\".xlsx\", index=False) # Sin deudas por vencer\n",
    "        \n",
    "        word_file = \"MODELO_2.docx\"\n",
    "        doc = Document(word_file)\n",
    "        for paragraph in doc.paragraphs:\n",
    "            if \"[fecha_hoy]\" in paragraph.text:\n",
    "                paragraph.text = paragraph.text.replace(\"[fecha_hoy]\", str(fecha_hoy))\n",
    "            if \"[razon_social]\" in paragraph.text:\n",
    "                paragraph.text = paragraph.text.replace(\"[razon_social]\", str(razon_social))\n",
    "            if \"[direccion_legal]\" in paragraph.text:\n",
    "                paragraph.text = paragraph.text.replace(\"[direccion_legal]\", str(direccion_legal))\n",
    "            if \"[distrito]\" in paragraph.text:\n",
    "                paragraph.text = paragraph.text.replace(\"[distrito]\", str(distrito))\n",
    "            if \"[provincia]\" in paragraph.text:\n",
    "                paragraph.text = paragraph.text.replace(\"[provincia]\", str(provincia))\n",
    "            if \"[departamento]\" in paragraph.text:\n",
    "                paragraph.text = paragraph.text.replace(\"[departamento]\", str(departamento))\n",
    "            if \"[dias_demora]\" in paragraph.text:\n",
    "                paragraph.text = paragraph.text.replace(\"[dias_demora]\", str(dias_demora))\n",
    "            if \"[deuda_vencida_soles]\" in paragraph.text:\n",
    "                paragraph.text = paragraph.text.replace(\"[deuda_vencida_soles]\", str(deuda_vencida_soles))\n",
    "            if \"[deuda_vencida_texto]\" in paragraph.text:\n",
    "                paragraph.text = paragraph.text.replace(\"[deuda_vencida_texto]\", str(deuda_vencida_texto))\n",
    "            if \"[analista]\" in paragraph.text:\n",
    "                paragraph.text = paragraph.text.replace(\"[analista]\", str(analista))\n",
    "            if \"[correo_analista]\" in paragraph.text:\n",
    "                paragraph.text = paragraph.text.replace(\"[correo_analista]\", str(correo_analista))\n",
    "            if \"[dias_demora_2]\" in paragraph.text:\n",
    "                paragraph.text = paragraph.text.replace(\"[razon_social_2]\", str(dias_demora_2))\n",
    "            if \"[razon_social_2]\" in paragraph.text:\n",
    "                paragraph.text = paragraph.text.replace(\"[dias_demora_2]\", str(razon_social_2))\n",
    "        \n",
    "        for paragraph in doc.paragraphs:\n",
    "            for run in paragraph.runs:\n",
    "                run.font.name = 'Arial'\n",
    "                run.font.size = Pt(11)\n",
    "        \n",
    "        nombre_doc = razon_social.upper()\n",
    "        doc_final = \"./FINAL/\"+nombre_doc+\".docx\"\n",
    "        doc.save(doc_final)\n",
    "        \n",
    "    else:\n",
    "        razon_social = df_cruce[df_cruce[\"Deudor\"]==cuenta][\"NOMBRE DAC\"].iloc[0]\n",
    "        \n",
    "        direccion_legal = df_cruce[df_cruce[\"Deudor\"]==cuenta][\"DIRECCIÓN LEGAL\"].iloc[0]\n",
    "        \n",
    "        distrito = df_cruce[df_cruce[\"Deudor\"]==cuenta][\"DISTRITO\"].iloc[0]\n",
    "        \n",
    "        provincia = df_cruce[df_cruce[\"Deudor\"]==cuenta][\"PROVINCIA\"].iloc[0]\n",
    "        \n",
    "        departamento = df_cruce[df_cruce[\"Deudor\"]==cuenta][\"DPTO.\"].iloc[0]\n",
    "        \n",
    "        dias_demora = df_cuenta[\"Demora\"].iloc[0]\n",
    "        \n",
    "        deuda_vencida = round(df_cuenta[df_cuenta[\"Demora\"] >= 0][\"Importe\"].sum(),2)\n",
    "        parte_entera_deuda_vencida, parte_decimal_deuda_vencida = parte_entera_decimal(deuda_vencida)\n",
    "        deuda_vencida_soles = f\"S/ {parte_entera_deuda_vencida}.{parte_decimal_deuda_vencida}\"\n",
    "        parte_entera_deuda_vencida_a_texto = numero_entero_a_texto(int(parte_entera_deuda_vencida))\n",
    "        deuda_vencida_texto = f\"({parte_entera_deuda_vencida_a_texto} con {parte_decimal_deuda_vencida}/100 soles)\"\n",
    "        \n",
    "        deuda_por_vencer = round(df_cuenta[df_cuenta[\"Demora\"] < 0][\"Importe\"].sum(),2)\n",
    "        parte_entera_deuda_por_vencer, parte_decimal_deuda_por_vencer = parte_entera_decimal(deuda_por_vencer)\n",
    "        deuda_por_vencer_soles = f\"S/ {parte_entera_deuda_por_vencer}.{parte_decimal_deuda_por_vencer}\"\n",
    "        parte_entera_deuda_por_vencer_a_texto = numero_entero_a_texto(int(parte_entera_deuda_por_vencer))\n",
    "        deuda_por_vencer_texto = f\"({parte_entera_deuda_por_vencer_a_texto} con {parte_decimal_deuda_por_vencer}/100 soles)\"\n",
    "        \n",
    "        analista_mayuscula = df_cruce[df_cruce[\"Deudor\"]==cuenta][\"ANALISTA_ACT\"].iloc[0]\n",
    "        analista = \" \".join([palabra.capitalize() for palabra in analista_mayuscula.lower().split(\" \")])\n",
    "        correo_analista = correos_analistas.get(analista)\n",
    "        \n",
    "        dias_demora_2 = dias_demora\n",
    "        razon_social_2 = razon_social\n",
    "        \n",
    "        df_cuenta.to_excel(\"./FINAL/\"+razon_social.upper()+\".xlsx\", index=False) # Con deudas por vencer\n",
    "        \n",
    "        word_file = \"MODELO_1.docx\"\n",
    "        doc = Document(word_file)\n",
    "        for paragraph in doc.paragraphs:\n",
    "            if \"[fecha_hoy]\" in paragraph.text:\n",
    "                paragraph.text = paragraph.text.replace(\"[fecha_hoy]\", str(fecha_hoy))\n",
    "            if \"[razon_social]\" in paragraph.text:\n",
    "                paragraph.text = paragraph.text.replace(\"[razon_social]\", str(razon_social))\n",
    "            if \"[direccion_legal]\" in paragraph.text:\n",
    "                paragraph.text = paragraph.text.replace(\"[direccion_legal]\", str(direccion_legal))\n",
    "            if \"[distrito]\" in paragraph.text:\n",
    "                paragraph.text = paragraph.text.replace(\"[distrito]\", str(distrito))\n",
    "            if \"[provincia]\" in paragraph.text:\n",
    "                paragraph.text = paragraph.text.replace(\"[provincia]\", str(provincia))\n",
    "            if \"[departamento]\" in paragraph.text:\n",
    "                paragraph.text = paragraph.text.replace(\"[departamento]\", str(departamento))\n",
    "            if \"[dias_demora]\" in paragraph.text:\n",
    "                paragraph.text = paragraph.text.replace(\"[dias_demora]\", str(dias_demora))\n",
    "            if \"[deuda_vencida_soles]\" in paragraph.text:\n",
    "                paragraph.text = paragraph.text.replace(\"[deuda_vencida_soles]\", str(deuda_vencida_soles))\n",
    "            if \"[deuda_vencida_texto]\" in paragraph.text:\n",
    "                paragraph.text = paragraph.text.replace(\"[deuda_vencida_texto]\", str(deuda_vencida_texto))\n",
    "            if \"[deuda_por_vencer_soles]\" in paragraph.text:\n",
    "                paragraph.text = paragraph.text.replace(\"[deuda_por_vencer_soles]\", str(deuda_por_vencer_soles))\n",
    "            if \"[deuda_por_vencer_texto]\" in paragraph.text:\n",
    "                paragraph.text = paragraph.text.replace(\"[deuda_por_vencer_texto]\", str(deuda_por_vencer_texto))\n",
    "            if \"[analista]\" in paragraph.text:\n",
    "                paragraph.text = paragraph.text.replace(\"[analista]\", str(analista))\n",
    "            if \"[correo_analista]\" in paragraph.text:\n",
    "                paragraph.text = paragraph.text.replace(\"[correo_analista]\", str(correo_analista))\n",
    "            if \"[dias_demora_2]\" in paragraph.text:\n",
    "                paragraph.text = paragraph.text.replace(\"[razon_social_2]\", str(razon_social_2))\n",
    "            if \"[razon_social_2]\" in paragraph.text:\n",
    "                paragraph.text = paragraph.text.replace(\"[dias_demora_2]\", str(dias_demora_2))\n",
    "        \n",
    "        for paragraph in doc.paragraphs:\n",
    "            for run in paragraph.runs:\n",
    "                run.font.name = 'Arial'\n",
    "                run.font.size = Pt(11)\n",
    "        \n",
    "        nombre_doc = razon_social.upper()\n",
    "        doc_final = \"./FINAL/\"+nombre_doc+\".docx\"\n",
    "        doc.save(doc_final)\n",
    "        "
   ]
  }
 ],
 "metadata": {
  "kernelspec": {
   "display_name": "Python 3",
   "language": "python",
   "name": "python3"
  },
  "language_info": {
   "codemirror_mode": {
    "name": "ipython",
    "version": 3
   },
   "file_extension": ".py",
   "mimetype": "text/x-python",
   "name": "python",
   "nbconvert_exporter": "python",
   "pygments_lexer": "ipython3",
   "version": "3.10.9"
  }
 },
 "nbformat": 4,
 "nbformat_minor": 2
}
