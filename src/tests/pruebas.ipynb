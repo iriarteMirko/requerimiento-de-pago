{
 "cells": [
  {
   "cell_type": "code",
   "execution_count": 79,
   "metadata": {},
   "outputs": [],
   "source": [
    "unidades = [\"\", \"uno\", \"dos\", \"tres\", \"cuatro\", \"cinco\", \"seis\", \"siete\", \"ocho\", \"nueve\"]\n",
    "diez_a_diecinueve = [\"diez\", \"once\", \"doce\", \"trece\", \"catorce\", \"quince\", \"dieciséis\", \"diecisiete\", \"dieciocho\", \"diecinueve\"]\n",
    "veinte_a_veintinueve = [\"veinte\", \"veintiuno\", \"veintidos\", \"veintitres\", \"veinticuatro\", \"veinticinco\", \"veintiseis\", \"veintisiete\", \"veintiocho\", \"veintinueve\"]\n",
    "decenas = [\"\", \"\", \"\", \"treinta\", \"cuarenta\", \"cincuenta\", \"sesenta\", \"setenta\", \"ochenta\", \"noventa\"]\n",
    "centenas = [\"\", \"ciento\", \"doscientos\", \"trescientos\", \"cuatrocientos\", \"quinientos\", \"seiscientos\", \"setecientos\", \"ochocientos\", \"novecientos\"]"
   ]
  },
  {
   "cell_type": "code",
   "execution_count": 80,
   "metadata": {},
   "outputs": [],
   "source": [
    "def convertir_grupo_a_texto(num):\n",
    "    texto = \"\"\n",
    "    if len(str(num)) == 1:\n",
    "        texto = unidades[num]\n",
    "    else:\n",
    "        if num > 100:\n",
    "            texto += centenas[num // 100]\n",
    "            num %= 100\n",
    "        \n",
    "        if num >= 30:\n",
    "            texto += \" \" + decenas[num // 10]\n",
    "            num %= 10\n",
    "        elif num >=20:\n",
    "            texto += \" \" + veinte_a_veintinueve[num - 20]\n",
    "            num = 0\n",
    "        elif num >= 10:\n",
    "            texto += \" \" + diez_a_diecinueve[num - 10]\n",
    "            num = 0\n",
    "        \n",
    "        if num >= 1 and \" \" not in texto:\n",
    "            texto += \" \" + unidades[num]\n",
    "        elif num >= 1:\n",
    "            texto += \" y \" + unidades[num]\n",
    "        else:\n",
    "            if num > 1:\n",
    "                texto += \" y \" + unidades[num]\n",
    "            elif num == 1:\n",
    "                texto += \" un\"\n",
    "            elif num == 0:\n",
    "                pass\n",
    "    return texto.strip()"
   ]
  },
  {
   "cell_type": "code",
   "execution_count": 81,
   "metadata": {},
   "outputs": [],
   "source": [
    "def numero_entero_a_texto(num):\n",
    "    if num == 0:\n",
    "        return \"cero\"\n",
    "    elif num == 100:\n",
    "        return \"cien\"\n",
    "    elif num == 1000:\n",
    "        return \"mil\"\n",
    "    grupos = []\n",
    "    while num > 0:\n",
    "        grupos.append(num % 1000)\n",
    "        num //= 1000\n",
    "        print(grupos)\n",
    "    textos = [convertir_grupo_a_texto(grupo) for grupo in grupos]\n",
    "    print(textos)\n",
    "    if len(textos) > 1:\n",
    "        if textos[1] == \"\":\n",
    "            pass\n",
    "        elif textos[1] == \"uno\":\n",
    "            textos[1] = \"mil\"\n",
    "        else:\n",
    "            textos[1] += \" mil\"\n",
    "        if \"uno mil\" in textos[1]:\n",
    "            textos[1] = textos[1].replace(\"uno mil\", \"un mil\")\n",
    "        print(textos)\n",
    "    if len(textos) > 2:\n",
    "        textos[2] = \"un millón\" if textos[2] == \"uno\" else textos[2] + \" millones\"\n",
    "        print(textos)\n",
    "    return \" \".join(textos[::-1]).strip().replace(\"  \", \" \")"
   ]
  },
  {
   "cell_type": "code",
   "execution_count": 82,
   "metadata": {},
   "outputs": [],
   "source": [
    "def separar_entero_decimal(numero):\n",
    "    numero_str = str(numero)\n",
    "    if \".\" not in numero_str:\n",
    "        parte_entera = numero_str\n",
    "        parte_decimal = \"00\"\n",
    "    else:\n",
    "        parte_entera, parte_decimal = numero_str.split(\".\")\n",
    "    \n",
    "    if len(parte_decimal) > 2:\n",
    "        parte_decimal = parte_decimal[:2]\n",
    "    elif len(parte_decimal) < 2:\n",
    "        parte_decimal = parte_decimal.ljust(2, \"0\")\n",
    "    \n",
    "    return parte_entera, parte_decimal"
   ]
  },
  {
   "cell_type": "code",
   "execution_count": 83,
   "metadata": {},
   "outputs": [
    {
     "name": "stdout",
     "output_type": "stream",
     "text": [
      "[1]\n",
      "[1, 0]\n",
      "[1, 0, 1]\n",
      "['uno', '', 'uno']\n",
      "['uno', '', 'uno']\n",
      "['uno', '', 'un millón']\n",
      "un millón uno\n"
     ]
    }
   ],
   "source": [
    "num = 1000001\n",
    "entero_texto = numero_entero_a_texto(num)\n",
    "print(entero_texto)"
   ]
  }
 ],
 "metadata": {
  "kernelspec": {
   "display_name": "Python 3",
   "language": "python",
   "name": "python3"
  },
  "language_info": {
   "codemirror_mode": {
    "name": "ipython",
    "version": 3
   },
   "file_extension": ".py",
   "mimetype": "text/x-python",
   "name": "python",
   "nbconvert_exporter": "python",
   "pygments_lexer": "ipython3",
   "version": "3.10.9"
  }
 },
 "nbformat": 4,
 "nbformat_minor": 2
}
