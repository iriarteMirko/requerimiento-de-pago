{
 "cells": [
  {
   "cell_type": "code",
   "execution_count": null,
   "metadata": {},
   "outputs": [],
   "source": [
    "unidades = [\"\", \"uno\", \"dos\", \"tres\", \"cuatro\", \"cinco\", \"seis\", \"siete\", \"ocho\", \"nueve\"]\n",
    "diez_a_diecinueve = [\"diez\", \"once\", \"doce\", \"trece\", \"catorce\", \"quince\", \"dieciséis\", \"diecisiete\", \"dieciocho\", \"diecinueve\"]\n",
    "veinte_a_veintinueve = [\"veinte\", \"veintiuno\", \"veintidos\", \"veintitres\", \"veinticuatro\", \"veinticinco\", \"veintiseis\", \"veintisiete\", \"veintiocho\", \"veintinueve\"]\n",
    "decenas = [\"\", \"\", \"\", \"treinta\", \"cuarenta\", \"cincuenta\", \"sesenta\", \"setenta\", \"ochenta\", \"noventa\"]\n",
    "centenas = [\"\", \"ciento\", \"doscientos\", \"trescientos\", \"cuatrocientos\", \"quinientos\", \"seiscientos\", \"setecientos\", \"ochocientos\", \"novecientos\"]"
   ]
  },
  {
   "cell_type": "code",
   "execution_count": null,
   "metadata": {},
   "outputs": [],
   "source": [
    "def convertir_grupo_a_texto(num):\n",
    "    texto = \"\"\n",
    "    if len(str(num)) == 1:\n",
    "        texto = unidades[num]\n",
    "    else:\n",
    "        if num > 100:\n",
    "            texto += centenas[num // 100]\n",
    "            num %= 100\n",
    "        elif num == 100:\n",
    "            texto += \"cien\"\n",
    "            num = 0\n",
    "        \n",
    "        if num >= 30:\n",
    "            texto += \" \" + decenas[num // 10]\n",
    "            num %= 10\n",
    "        elif num >=20:\n",
    "            texto += \" \" + veinte_a_veintinueve[num - 20]\n",
    "            num = 0\n",
    "        elif num >= 10:\n",
    "            texto += \" \" + diez_a_diecinueve[num - 10]\n",
    "            num = 0\n",
    "        \n",
    "        if num >= 1 and \" \" not in texto:\n",
    "            texto += \" \" + unidades[num]\n",
    "        elif num >= 1:\n",
    "            texto += \" y \" + unidades[num]\n",
    "        else:\n",
    "            if num > 1:\n",
    "                texto += \" y \" + unidades[num]\n",
    "            elif num == 1:\n",
    "                texto += \" un\"\n",
    "            elif num == 0:\n",
    "                pass\n",
    "    return texto.strip()"
   ]
  },
  {
   "cell_type": "code",
   "execution_count": null,
   "metadata": {},
   "outputs": [],
   "source": [
    "def numero_entero_a_texto(num):\n",
    "    if num == 0:\n",
    "        return \"cero\"\n",
    "    elif num == 100:\n",
    "        return \"cien\"\n",
    "    elif num == 1000:\n",
    "        return \"mil\"\n",
    "    grupos = []\n",
    "    while num > 0:\n",
    "        grupos.append(num % 1000)\n",
    "        num //= 1000\n",
    "        #print(grupos)\n",
    "    textos = [convertir_grupo_a_texto(grupo) for grupo in grupos]\n",
    "    #print(textos)\n",
    "    if len(textos) > 1:\n",
    "        if textos[1] == \"\":\n",
    "            pass\n",
    "        elif textos[1] == \"uno\":\n",
    "            textos[1] = \"mil\"\n",
    "        else:\n",
    "            textos[1] += \" mil\"\n",
    "        if \"uno mil\" in textos[1]:\n",
    "            textos[1] = textos[1].replace(\"uno mil\", \"un mil\")\n",
    "        #print(textos)\n",
    "    if len(textos) > 2:\n",
    "        textos[2] = \"un millón\" if textos[2] == \"uno\" else textos[2] + \" millones\"\n",
    "        #print(textos)\n",
    "    return \" \".join(textos[::-1]).strip().replace(\"  \", \" \")"
   ]
  },
  {
   "cell_type": "code",
   "execution_count": null,
   "metadata": {},
   "outputs": [],
   "source": [
    "def separar_entero_decimal(numero):\n",
    "    numero_str = str(numero)\n",
    "    if \".\" not in numero_str:\n",
    "        parte_entera = numero_str\n",
    "        parte_decimal = \"00\"\n",
    "    else:\n",
    "        parte_entera, parte_decimal = numero_str.split(\".\")\n",
    "    \n",
    "    if len(parte_decimal) > 2:\n",
    "        parte_decimal = parte_decimal[:2]\n",
    "    elif len(parte_decimal) < 2:\n",
    "        parte_decimal = parte_decimal.ljust(2, \"0\")\n",
    "    \n",
    "    return parte_entera, parte_decimal"
   ]
  },
  {
   "cell_type": "code",
   "execution_count": null,
   "metadata": {},
   "outputs": [],
   "source": [
    "def formato_miles(num):\n",
    "    num_str = str(num)\n",
    "    if len(num_str) <= 3:\n",
    "        return num_str\n",
    "    elif len(num_str) <= 6:\n",
    "        miles = num_str[:-3]\n",
    "        cientos = num_str[-3:]\n",
    "        return miles + \",\" + cientos\n",
    "    elif len(num_str) <= 9:\n",
    "        millones = num_str[:-6]\n",
    "        miles = num_str[-6:-3]\n",
    "        cientos = num_str[-3:]\n",
    "        return millones + \",\" + miles + \",\" + cientos\n",
    "    else:\n",
    "        return num_str"
   ]
  },
  {
   "cell_type": "code",
   "execution_count": null,
   "metadata": {},
   "outputs": [],
   "source": [
    "def formato_numero(num):\n",
    "    entero, decimal = separar_entero_decimal(num)\n",
    "    deuda_soles = f\"S/ {formato_miles(entero)}.{decimal}\"\n",
    "    \n",
    "    entero_texto = numero_entero_a_texto(int(entero))\n",
    "    deuda_texto = f\"({entero_texto} con {decimal}/100 soles)\"\n",
    "    \n",
    "    return deuda_soles, deuda_texto"
   ]
  },
  {
   "cell_type": "code",
   "execution_count": null,
   "metadata": {},
   "outputs": [],
   "source": [
    "# Modificar num para probar #\n",
    "num = 21100\n",
    "\n",
    "soles, texto  = formato_numero(num)\n",
    "print(f\"Deuda: {soles}\")\n",
    "print(f\"Deuda en texto: {texto}\")"
   ]
  }
 ],
 "metadata": {
  "kernelspec": {
   "display_name": "Python 3",
   "language": "python",
   "name": "python3"
  },
  "language_info": {
   "codemirror_mode": {
    "name": "ipython",
    "version": 3
   },
   "file_extension": ".py",
   "mimetype": "text/x-python",
   "name": "python",
   "nbconvert_exporter": "python",
   "pygments_lexer": "ipython3",
   "version": "3.10.9"
  }
 },
 "nbformat": 4,
 "nbformat_minor": 2
}
